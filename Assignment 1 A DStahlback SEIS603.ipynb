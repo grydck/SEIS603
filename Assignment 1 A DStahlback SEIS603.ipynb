{
 "cells": [
  {
   "cell_type": "code",
   "execution_count": 1,
   "id": "3865e705",
   "metadata": {},
   "outputs": [],
   "source": [
    "import platform\n"
   ]
  },
  {
   "cell_type": "code",
   "execution_count": 2,
   "id": "467a8e63",
   "metadata": {
    "scrolled": true
   },
   "outputs": [],
   "source": [
    "vers = platform.python_version()"
   ]
  },
  {
   "cell_type": "code",
   "execution_count": 3,
   "id": "e489a02d",
   "metadata": {},
   "outputs": [],
   "source": [
    "#platform??"
   ]
  },
  {
   "cell_type": "code",
   "execution_count": 4,
   "id": "c2e29f23",
   "metadata": {},
   "outputs": [],
   "source": [
    "assert vers[0] == '3', \"You must use python 3, \"+vers+\" is not acceptable.\""
   ]
  },
  {
   "cell_type": "code",
   "execution_count": 5,
   "id": "c0691e61",
   "metadata": {},
   "outputs": [
    {
     "name": "stdout",
     "output_type": "stream",
     "text": [
      "Python 3 confirmed.\n"
     ]
    }
   ],
   "source": [
    "print(\"Python 3 confirmed.\")"
   ]
  },
  {
   "cell_type": "code",
   "execution_count": 6,
   "id": "44f5f5f9",
   "metadata": {},
   "outputs": [
    {
     "name": "stdout",
     "output_type": "stream",
     "text": [
      "How many cakes would you like to make?2\n"
     ]
    }
   ],
   "source": [
    "num_cakes = input(\"How many cakes would you like to make? \")\n",
    "#recipe_mult = 12/num_cakes # unsupported operand type(s) for /: 'int' and 'str'\n",
    "recipe_mult = 12/int(num_cakes)\n",
    "#print(recipe_mult)\n",
    "sweet_butter = str(125*recipe_mult) + \"g sweet butter\"\n",
    "#print(sweet_butter)\n"
   ]
  },
  {
   "cell_type": "code",
   "execution_count": 7,
   "id": "e8e34654",
   "metadata": {},
   "outputs": [],
   "source": [
    "sugar = str(225*recipe_mult)+\"g sugar\"\n",
    "#print(sugar)"
   ]
  },
  {
   "cell_type": "code",
   "execution_count": 8,
   "id": "893499a1",
   "metadata": {},
   "outputs": [
    {
     "name": "stdout",
     "output_type": "stream",
     "text": [
      "6 eggs\n"
     ]
    }
   ],
   "source": [
    "eggs = str(max(1,round(recipe_mult)))+\" eggs\"\n",
    "print(eggs)"
   ]
  },
  {
   "cell_type": "code",
   "execution_count": 9,
   "id": "55f399ae",
   "metadata": {
    "scrolled": true
   },
   "outputs": [],
   "source": [
    "vanilla = str(recipe_mult)+\" tsp vanilla extract\"\n",
    "#print(vanilla)"
   ]
  },
  {
   "cell_type": "code",
   "execution_count": 10,
   "id": "81d67572",
   "metadata": {},
   "outputs": [],
   "source": [
    "chocolate = str(recipe_mult)+\" tsp chocolate extract\"\n",
    "#print(chocolate)"
   ]
  },
  {
   "cell_type": "code",
   "execution_count": 11,
   "id": "29dbd3bb",
   "metadata": {},
   "outputs": [],
   "source": [
    "flour = str(225*recipe_mult)+\" g flour\"\n",
    "#print(flour)"
   ]
  },
  {
   "cell_type": "code",
   "execution_count": 12,
   "id": "2c08ff60",
   "metadata": {},
   "outputs": [],
   "source": [
    "salt = str(0.5*recipe_mult)+\" tsp salt\"\n",
    "#print(salt)"
   ]
  },
  {
   "cell_type": "code",
   "execution_count": 13,
   "id": "e1f9aa74",
   "metadata": {},
   "outputs": [],
   "source": [
    "chips = str(200*recipe_mult)+\"g chocolate chips\"\n",
    "#print(chips)"
   ]
  },
  {
   "cell_type": "code",
   "execution_count": 14,
   "id": "217f1003",
   "metadata": {},
   "outputs": [
    {
     "name": "stdout",
     "output_type": "stream",
     "text": [
      "750.0g sweet butter\n",
      "1350.0g sugar\n",
      "6 eggs\n",
      "6.0 tsp vanilla extract\n",
      "6.0 tsp chocolate extract\n",
      "1350.0 g flour\n",
      "3.0 tsp salt\n",
      "1200.0g chocolate chips\n"
     ]
    }
   ],
   "source": [
    "print(sweet_butter) \n",
    "print(sugar) \n",
    "print(eggs) \n",
    "print(vanilla) \n",
    "print(chocolate) \n",
    "print(flour) \n",
    "print(salt) \n",
    "print(chips)"
   ]
  },
  {
   "cell_type": "code",
   "execution_count": null,
   "id": "c4467a24",
   "metadata": {},
   "outputs": [],
   "source": []
  },
  {
   "cell_type": "code",
   "execution_count": null,
   "id": "679b09c6",
   "metadata": {},
   "outputs": [],
   "source": []
  }
 ],
 "metadata": {
  "kernelspec": {
   "display_name": "Python 3 (ipykernel)",
   "language": "python",
   "name": "python3"
  },
  "language_info": {
   "codemirror_mode": {
    "name": "ipython",
    "version": 3
   },
   "file_extension": ".py",
   "mimetype": "text/x-python",
   "name": "python",
   "nbconvert_exporter": "python",
   "pygments_lexer": "ipython3",
   "version": "3.11.5"
  }
 },
 "nbformat": 4,
 "nbformat_minor": 5
}
