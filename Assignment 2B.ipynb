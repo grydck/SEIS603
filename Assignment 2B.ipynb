{
 "cells": [
  {
   "cell_type": "code",
   "execution_count": 7,
   "id": "9a185efd",
   "metadata": {},
   "outputs": [
    {
     "name": "stdout",
     "output_type": "stream",
     "text": [
      "[1, 1, 2, 3, 5, 5, 8, 13, 21, 34, 89]\n"
     ]
    }
   ],
   "source": [
    "#Author: Darwin Stahlback\n",
    "#Assignment: 2B\n",
    "#SEIS603-01 Naqvi\n",
    "#Take a list and write a program that prints out all the elements of the list \n",
    "#that are less than or equal (<=) to 34 and if the number is an 89 ('or' statement)\n",
    "#Test 1: The answer should be [1, 1, 2, 3, 5, 5, 8, 13, 21, 34, 89]\n",
    "\n",
    "a = [1, 1, 2, 3, 5, 5, 8, 13, 21, 34, 45, 55, 89, 91]\n",
    "new_list =[]\n",
    "for item in a:\n",
    "    if (item <= 34) or (item == 89):\n",
    "        new_list.append(item)\n",
    "print(new_list[:])"
   ]
  },
  {
   "cell_type": "code",
   "execution_count": 1,
   "id": "288ff12f",
   "metadata": {},
   "outputs": [
    {
     "name": "stdout",
     "output_type": "stream",
     "text": [
      "jupyter\n"
     ]
    }
   ],
   "source": [
    "print(\"jupyter\")"
   ]
  }
 ],
 "metadata": {
  "kernelspec": {
   "display_name": "Python 3 (ipykernel)",
   "language": "python",
   "name": "python3"
  },
  "language_info": {
   "codemirror_mode": {
    "name": "ipython",
    "version": 3
   },
   "file_extension": ".py",
   "mimetype": "text/x-python",
   "name": "python",
   "nbconvert_exporter": "python",
   "pygments_lexer": "ipython3",
   "version": "3.11.5"
  }
 },
 "nbformat": 4,
 "nbformat_minor": 5
}
