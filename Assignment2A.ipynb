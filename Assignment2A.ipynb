{
 "cells": [
  {
   "cell_type": "code",
   "execution_count": 22,
   "id": "b4cef84e",
   "metadata": {},
   "outputs": [],
   "source": [
    "#Author: Darwin Stahlback\n",
    "#Assignment: 2A\n",
    "#SEIS603-01 Naqvi \n",
    "#Ask the user for a number. Depending on whether the number is even or odd, print out an appropriate message to the user\n",
    "def isOddorEven():\n",
    "#take user input\n",
    "    wholeNumber = input(\"Enter a number:\")\n",
    "#check if a valid numeric entry\n",
    "    if wholeNumber.isnumeric() == False:\n",
    "       print(\"Your entry of \"+wholeNumber+\" is not valid, try again\")\n",
    "    else:\n",
    "#check if the number entered is = 0\n",
    "        if int(wholeNumber)== 0:\n",
    "            print(wholeNumber + \" is zero\")\n",
    "#if valid and <> 0 then calc and print numebr is odd or even\n",
    "        else:\n",
    "            result = int(wholeNumber)%2\n",
    "            if result == 0:\n",
    "                print(wholeNumber + \" is even\")\n",
    "            else:\n",
    "                print(wholeNumber + \" is odd\")\n",
    "\n"
   ]
  }
 ],
 "metadata": {
  "kernelspec": {
   "display_name": "Python 3 (ipykernel)",
   "language": "python",
   "name": "python3"
  },
  "language_info": {
   "codemirror_mode": {
    "name": "ipython",
    "version": 3
   },
   "file_extension": ".py",
   "mimetype": "text/x-python",
   "name": "python",
   "nbconvert_exporter": "python",
   "pygments_lexer": "ipython3",
   "version": "3.11.5"
  }
 },
 "nbformat": 4,
 "nbformat_minor": 5
}
