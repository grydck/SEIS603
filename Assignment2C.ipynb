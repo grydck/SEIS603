{
 "cells": [
  {
   "cell_type": "code",
   "execution_count": 5,
   "id": "6d309671",
   "metadata": {},
   "outputs": [],
   "source": [
    "#Author: Darwin Stahlback\n",
    "#Assignment: 2C\n",
    "#SEIS603-01 Naqvi\n",
    "#Ask the user to enter temperature in degrees centigrade and convert the temperature to Fahrenheit\n",
    "#F = (9/5 × °C) + 32\n",
    "def c_to_f():\n",
    "    tmp_c = input(\"Enter your temperature in degrees centigrade to be converted to Fahrenheit:\")\n",
    "    tmp_f = (9/5 * float(tmp_c)) + 32\n",
    "    print(tmp_c+\" °C is equal to \" + str(round(tmp_f,1)) + '°F')"
   ]
  },
  {
   "cell_type": "code",
   "execution_count": 3,
   "id": "fdc08fed",
   "metadata": {},
   "outputs": [
    {
     "name": "stdout",
     "output_type": "stream",
     "text": [
      "Enter your temperature in degrees centigrade to be converted to Fahrenheit:-20\n",
      "-20 °C is equal to -4.0°F\n"
     ]
    }
   ],
   "source": [
    "c_to_f()"
   ]
  },
  {
   "cell_type": "code",
   "execution_count": 6,
   "id": "273724d9",
   "metadata": {},
   "outputs": [
    {
     "name": "stdout",
     "output_type": "stream",
     "text": [
      "Enter your temperature in degrees centigrade to be converted to Fahrenheit:13\n",
      "13 °C is equal to 55.4°F\n"
     ]
    }
   ],
   "source": [
    "c_to_f()"
   ]
  }
 ],
 "metadata": {
  "kernelspec": {
   "display_name": "Python 3 (ipykernel)",
   "language": "python",
   "name": "python3"
  },
  "language_info": {
   "codemirror_mode": {
    "name": "ipython",
    "version": 3
   },
   "file_extension": ".py",
   "mimetype": "text/x-python",
   "name": "python",
   "nbconvert_exporter": "python",
   "pygments_lexer": "ipython3",
   "version": "3.11.5"
  }
 },
 "nbformat": 4,
 "nbformat_minor": 5
}
