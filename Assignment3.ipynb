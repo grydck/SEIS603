{
 "cells": [
  {
   "cell_type": "code",
   "execution_count": null,
   "id": "bfbad979",
   "metadata": {},
   "outputs": [],
   "source": [
    "\"\"\"1) Read the text file from your local drive with some text in it. \n",
    "(The text is at the bottom).\n",
    "\n",
    "2) Now using a for loop go over the text line by line and each time you read a line you should reverse it\n",
    "and store it in a StringBuilder. (We learned this in a class previously).\n",
    "You can not use any python reverse string methods rather you have to write the code yourself to reverse the string.\n",
    "Once you have successfully reversed the entire file; display the data back on the screen\n",
    "\n",
    "3) Now use a for loop to go over the text you read from the file\n",
    "and make every letter capitalized. You can use any python upper methods for this part of the problem.\n",
    "Once the entire text is converted into upper text; display the data back on the screen. \n",
    "(Remember you can NOT read the entire text and use a method to convert the whole text with one method call \n",
    "rather I want to see you convert one letter at a time, thus use some loop to go over each character in the string at a time. \n",
    "\"\"\""
   ]
  },
  {
   "cell_type": "code",
   "execution_count": 2,
   "id": "76f82fb5",
   "metadata": {},
   "outputs": [
    {
     "data": {
      "text/plain": [
       "[' \"More severe weather could be on its way to the US state of Mississippi following the tornadoes which killed 26 people, the governor has warned.\\n',\n",
       " '\\n',\n",
       " 'Governor Tate Reeves said significant risks remained in parts of the state.\\n',\n",
       " '\\n',\n",
       " 'Hundreds of people have been displaced in the wake of the tornadoes which tore through Mississippi and Alabama on Friday night.\\n',\n",
       " '\\n',\n",
       " 'The mayor of one of the worst affected towns said he had lost personal friends in the disaster.\\n',\n",
       " '\\n',\n",
       " \"Friday's tornado was the deadliest in the state of Mississippi in more than a decade. At least 25 people have died in the state, with one person confirmed dead in neighbouring Alabama.\\n\",\n",
       " '\\n',\n",
       " 'Trees have been uprooted, trucks have overturned into houses and power lines have been brought down by the tornado - classified as \"violent\" and given the second-highest rating possible.\\n',\n",
       " '\\n',\n",
       " 'On Saturday, survivors of the disaster could be seen walking around, dazed and in shock. Sunday, on the other hand, has been a hive of activity.\\n',\n",
       " '\\n',\n",
       " 'Volunteers, some coming from neighbouring Arkansas, Louisiana and Tennessee, have been helping with the clean-up operation.\\n',\n",
       " '\\n',\n",
       " 'President Joe Biden has declared a state of emergency and deployed federal resources to help with the rescue and response in some of the worst-hit towns.\\n',\n",
       " '\\n',\n",
       " \"The devastation is so great, it must be difficult to know where to begin. Crews are working to remove broken trees that are pinning down power lines, with thousands of people losing power during Friday's storm.\\n\",\n",
       " '\\n',\n",
       " 'Stations have been set up outside some of the few buildings still partially standing where people can collect water and sandwiches.\\n',\n",
       " '\\n',\n",
       " 'But while local communities are grappling with the response, there are warnings of further severe storms to come.\"']"
      ]
     },
     "execution_count": 2,
     "metadata": {},
     "output_type": "execute_result"
    }
   ],
   "source": [
    "# read the text file\n",
    "file_path = \"C:\\\\SEIS603_PYTHON\\\\assignment3.txt\"  # Adjust the path as needed\n",
    "with open(file_path, 'r') as file:\n",
    "    lines = file.readlines()\n",
    "lines"
   ]
  },
  {
   "cell_type": "code",
   "execution_count": 3,
   "id": "eafc4b50",
   "metadata": {},
   "outputs": [],
   "source": [
    "#Part create and use stringbulder example from class\n",
    "from io import StringIO\n",
    "\n",
    "class StringBuilder:\n",
    "    _file_str = None\n",
    "\n",
    "    def __init__(self):\n",
    "        self._file_str = StringIO()\n",
    "\n",
    "    def Append(self, str):\n",
    "        self._file_str.write(str)\n",
    "\n",
    "    def __str__(self):\n",
    "        return self._file_str.getvalue()"
   ]
  },
  {
   "cell_type": "code",
   "execution_count": 4,
   "id": "119568fe",
   "metadata": {},
   "outputs": [],
   "source": [
    "#intialize the sb object for reveral\n",
    "rev_sb = StringBuilder()"
   ]
  },
  {
   "cell_type": "code",
   "execution_count": 7,
   "id": "c9982c27",
   "metadata": {},
   "outputs": [],
   "source": [
    "# using a for loop go over the text line by line and each time you read a line you should reverse it\n",
    "for line in lines: \n",
    "    # Remove the newline character at end of the line do this to prevent messing up the line\n",
    "    line_wo_newline = line.strip('\\n')\n",
    "    \n",
    "    # Reverse the line by slicing it backwards\n",
    "    reversed_line = line_wo_newline[::-1]\n",
    "    \n",
    "    # Add a newline character back to the end of the reversed line\n",
    "    reversed_line_with_newline = reversed_line + '\\n'\n",
    "    \n",
    "    # Append the reversed line with newline to the StringBuilder class we creaetd\n",
    "    rev_sb.Append(reversed_line_with_newline)\n"
   ]
  },
  {
   "cell_type": "code",
   "execution_count": 9,
   "id": "1eac4e83",
   "metadata": {},
   "outputs": [
    {
     "data": {
      "text/plain": [
       "'.denraw sah ronrevog eht ,elpoep 62 dellik hcihw seodanrot eht gniwollof ippississiM fo etats SU eht ot yaw sti no eb dluoc rehtaew ereves eroM\" \\n\\n.etats eht fo strap ni deniamer sksir tnacifingis dias seveeR etaT ronrevoG\\n\\n.thgin yadirF no amabalA dna ippississiM hguorht erot hcihw seodanrot eht fo ekaw eht ni decalpsid neeb evah elpoep fo sderdnuH\\n\\n.retsasid eht ni sdneirf lanosrep tsol dah eh dias snwot detceffa tsrow eht fo eno fo royam ehT\\n\\n.amabalA gniruobhgien ni daed demrifnoc nosrep eno htiw ,etats eht ni deid evah elpoep 52 tsael tA .edaced a naht erom ni ippississiM fo etats eht ni tseildaed eht saw odanrot s\\'yadirF\\n\\n.elbissop gnitar tsehgih-dnoces eht nevig dna \"tneloiv\" sa deifissalc - odanrot eht yb nwod thguorb neeb evah senil rewop dna sesuoh otni denrutrevo evah skcurt ,detoorpu neeb evah seerT\\n\\n.ytivitca fo evih a neeb sah ,dnah rehto eht no ,yadnuS .kcohs ni dna dezad ,dnuora gniklaw nees eb dluoc retsasid eht fo srovivrus ,yadrutaS nO\\n\\n.noitarepo pu-naelc eht htiw gnipleh neeb evah ,eessenneT dna anaisiuoL ,sasnakrA gniruobhgien morf gnimoc emos ,sreetnuloV\\n\\n.snwot tih-tsrow eht fo emos ni esnopser dna eucser eht htiw pleh ot secruoser laredef deyolped dna ycnegreme fo etats a deralced sah nediB eoJ tnediserP\\n\\n.mrots s\\'yadirF gnirud rewop gnisol elpoep fo sdnasuoht htiw ,senil rewop nwod gninnip era taht seert nekorb evomer ot gnikrow era swerC .nigeb ot erehw wonk ot tluciffid eb tsum ti ,taerg os si noitatsaved ehT\\n\\n.sehciwdnas dna retaw tcelloc nac elpoep erehw gnidnats yllaitrap llits sgnidliub wef eht fo emos edistuo pu tes neeb evah snoitatS\\n\\n\".emoc ot smrots ereves rehtruf fo sgninraw era ereht ,esnopser eht htiw gnilpparg era seitinummoc lacol elihw tuB\\n.denraw sah ronrevog eht ,elpoep 62 dellik hcihw seodanrot eht gniwollof ippississiM fo etats SU eht ot yaw sti no eb dluoc rehtaew ereves eroM\" \\n\\n.etats eht fo strap ni deniamer sksir tnacifingis dias seveeR etaT ronrevoG\\n\\n.thgin yadirF no amabalA dna ippississiM hguorht erot hcihw seodanrot eht fo ekaw eht ni decalpsid neeb evah elpoep fo sderdnuH\\n\\n.retsasid eht ni sdneirf lanosrep tsol dah eh dias snwot detceffa tsrow eht fo eno fo royam ehT\\n\\n.amabalA gniruobhgien ni daed demrifnoc nosrep eno htiw ,etats eht ni deid evah elpoep 52 tsael tA .edaced a naht erom ni ippississiM fo etats eht ni tseildaed eht saw odanrot s\\'yadirF\\n\\n.elbissop gnitar tsehgih-dnoces eht nevig dna \"tneloiv\" sa deifissalc - odanrot eht yb nwod thguorb neeb evah senil rewop dna sesuoh otni denrutrevo evah skcurt ,detoorpu neeb evah seerT\\n\\n.ytivitca fo evih a neeb sah ,dnah rehto eht no ,yadnuS .kcohs ni dna dezad ,dnuora gniklaw nees eb dluoc retsasid eht fo srovivrus ,yadrutaS nO\\n\\n.noitarepo pu-naelc eht htiw gnipleh neeb evah ,eessenneT dna anaisiuoL ,sasnakrA gniruobhgien morf gnimoc emos ,sreetnuloV\\n\\n.snwot tih-tsrow eht fo emos ni esnopser dna eucser eht htiw pleh ot secruoser laredef deyolped dna ycnegreme fo etats a deralced sah nediB eoJ tnediserP\\n\\n.mrots s\\'yadirF gnirud rewop gnisol elpoep fo sdnasuoht htiw ,senil rewop nwod gninnip era taht seert nekorb evomer ot gnikrow era swerC .nigeb ot erehw wonk ot tluciffid eb tsum ti ,taerg os si noitatsaved ehT\\n\\n.sehciwdnas dna retaw tcelloc nac elpoep erehw gnidnats yllaitrap llits sgnidliub wef eht fo emos edistuo pu tes neeb evah snoitatS\\n\\n\".emoc ot smrots ereves rehtruf fo sgninraw era ereht ,esnopser eht htiw gnilpparg era seitinummoc lacol elihw tuB\\n.denraw sah ronrevog eht ,elpoep 62 dellik hcihw seodanrot eht gniwollof ippississiM fo etats SU eht ot yaw sti no eb dluoc rehtaew ereves eroM\" \\n\\n.etats eht fo strap ni deniamer sksir tnacifingis dias seveeR etaT ronrevoG\\n\\n.thgin yadirF no amabalA dna ippississiM hguorht erot hcihw seodanrot eht fo ekaw eht ni decalpsid neeb evah elpoep fo sderdnuH\\n\\n.retsasid eht ni sdneirf lanosrep tsol dah eh dias snwot detceffa tsrow eht fo eno fo royam ehT\\n\\n.amabalA gniruobhgien ni daed demrifnoc nosrep eno htiw ,etats eht ni deid evah elpoep 52 tsael tA .edaced a naht erom ni ippississiM fo etats eht ni tseildaed eht saw odanrot s\\'yadirF\\n\\n.elbissop gnitar tsehgih-dnoces eht nevig dna \"tneloiv\" sa deifissalc - odanrot eht yb nwod thguorb neeb evah senil rewop dna sesuoh otni denrutrevo evah skcurt ,detoorpu neeb evah seerT\\n\\n.ytivitca fo evih a neeb sah ,dnah rehto eht no ,yadnuS .kcohs ni dna dezad ,dnuora gniklaw nees eb dluoc retsasid eht fo srovivrus ,yadrutaS nO\\n\\n.noitarepo pu-naelc eht htiw gnipleh neeb evah ,eessenneT dna anaisiuoL ,sasnakrA gniruobhgien morf gnimoc emos ,sreetnuloV\\n\\n.snwot tih-tsrow eht fo emos ni esnopser dna eucser eht htiw pleh ot secruoser laredef deyolped dna ycnegreme fo etats a deralced sah nediB eoJ tnediserP\\n\\n.mrots s\\'yadirF gnirud rewop gnisol elpoep fo sdnasuoht htiw ,senil rewop nwod gninnip era taht seert nekorb evomer ot gnikrow era swerC .nigeb ot erehw wonk ot tluciffid eb tsum ti ,taerg os si noitatsaved ehT\\n\\n.sehciwdnas dna retaw tcelloc nac elpoep erehw gnidnats yllaitrap llits sgnidliub wef eht fo emos edistuo pu tes neeb evah snoitatS\\n\\n\".emoc ot smrots ereves rehtruf fo sgninraw era ereht ,esnopser eht htiw gnilpparg era seitinummoc lacol elihw tuB\\n'"
      ]
     },
     "execution_count": 9,
     "metadata": {},
     "output_type": "execute_result"
    }
   ],
   "source": [
    "# print rev_sb which hold the reversed content\n",
    "reversed_text = str(rev_sb)\n",
    "reversed_text"
   ]
  },
  {
   "cell_type": "code",
   "execution_count": 10,
   "id": "9e1e361f",
   "metadata": {},
   "outputs": [
    {
     "name": "stdout",
     "output_type": "stream",
     "text": [
      ".DENRAW SAH RONREVOG EHT ,ELPOEP 62 DELLIK HCIHW SEODANROT EHT GNIWOLLOF IPPISSISSIM FO ETATS SU EHT OT YAW STI NO EB DLUOC REHTAEW EREVES EROM\" \n",
      "\n",
      ".ETATS EHT FO STRAP NI DENIAMER SKSIR TNACIFINGIS DIAS SEVEER ETAT RONREVOG\n",
      "\n",
      ".THGIN YADIRF NO AMABALA DNA IPPISSISSIM HGUORHT EROT HCIHW SEODANROT EHT FO EKAW EHT NI DECALPSID NEEB EVAH ELPOEP FO SDERDNUH\n",
      "\n",
      ".RETSASID EHT NI SDNEIRF LANOSREP TSOL DAH EH DIAS SNWOT DETCEFFA TSROW EHT FO ENO FO ROYAM EHT\n",
      "\n",
      ".AMABALA GNIRUOBHGIEN NI DAED DEMRIFNOC NOSREP ENO HTIW ,ETATS EHT NI DEID EVAH ELPOEP 52 TSAEL TA .EDACED A NAHT EROM NI IPPISSISSIM FO ETATS EHT NI TSEILDAED EHT SAW ODANROT S'YADIRF\n",
      "\n",
      ".ELBISSOP GNITAR TSEHGIH-DNOCES EHT NEVIG DNA \"TNELOIV\" SA DEIFISSALC - ODANROT EHT YB NWOD THGUORB NEEB EVAH SENIL REWOP DNA SESUOH OTNI DENRUTREVO EVAH SKCURT ,DETOORPU NEEB EVAH SEERT\n",
      "\n",
      ".YTIVITCA FO EVIH A NEEB SAH ,DNAH REHTO EHT NO ,YADNUS .KCOHS NI DNA DEZAD ,DNUORA GNIKLAW NEES EB DLUOC RETSASID EHT FO SROVIVRUS ,YADRUTAS NO\n",
      "\n",
      ".NOITAREPO PU-NAELC EHT HTIW GNIPLEH NEEB EVAH ,EESSENNET DNA ANAISIUOL ,SASNAKRA GNIRUOBHGIEN MORF GNIMOC EMOS ,SREETNULOV\n",
      "\n",
      ".SNWOT TIH-TSROW EHT FO EMOS NI ESNOPSER DNA EUCSER EHT HTIW PLEH OT SECRUOSER LAREDEF DEYOLPED DNA YCNEGREME FO ETATS A DERALCED SAH NEDIB EOJ TNEDISERP\n",
      "\n",
      ".MROTS S'YADIRF GNIRUD REWOP GNISOL ELPOEP FO SDNASUOHT HTIW ,SENIL REWOP NWOD GNINNIP ERA TAHT SEERT NEKORB EVOMER OT GNIKROW ERA SWERC .NIGEB OT EREHW WONK OT TLUCIFFID EB TSUM TI ,TAERG OS SI NOITATSAVED EHT\n",
      "\n",
      ".SEHCIWDNAS DNA RETAW TCELLOC NAC ELPOEP EREHW GNIDNATS YLLAITRAP LLITS SGNIDLIUB WEF EHT FO EMOS EDISTUO PU TES NEEB EVAH SNOITATS\n",
      "\n",
      "\".EMOC OT SMROTS EREVES REHTRUF FO SGNINRAW ERA EREHT ,ESNOPSER EHT HTIW GNILPPARG ERA SEITINUMMOC LACOL ELIHW TUB\n",
      ".DENRAW SAH RONREVOG EHT ,ELPOEP 62 DELLIK HCIHW SEODANROT EHT GNIWOLLOF IPPISSISSIM FO ETATS SU EHT OT YAW STI NO EB DLUOC REHTAEW EREVES EROM\" \n",
      "\n",
      ".ETATS EHT FO STRAP NI DENIAMER SKSIR TNACIFINGIS DIAS SEVEER ETAT RONREVOG\n",
      "\n",
      ".THGIN YADIRF NO AMABALA DNA IPPISSISSIM HGUORHT EROT HCIHW SEODANROT EHT FO EKAW EHT NI DECALPSID NEEB EVAH ELPOEP FO SDERDNUH\n",
      "\n",
      ".RETSASID EHT NI SDNEIRF LANOSREP TSOL DAH EH DIAS SNWOT DETCEFFA TSROW EHT FO ENO FO ROYAM EHT\n",
      "\n",
      ".AMABALA GNIRUOBHGIEN NI DAED DEMRIFNOC NOSREP ENO HTIW ,ETATS EHT NI DEID EVAH ELPOEP 52 TSAEL TA .EDACED A NAHT EROM NI IPPISSISSIM FO ETATS EHT NI TSEILDAED EHT SAW ODANROT S'YADIRF\n",
      "\n",
      ".ELBISSOP GNITAR TSEHGIH-DNOCES EHT NEVIG DNA \"TNELOIV\" SA DEIFISSALC - ODANROT EHT YB NWOD THGUORB NEEB EVAH SENIL REWOP DNA SESUOH OTNI DENRUTREVO EVAH SKCURT ,DETOORPU NEEB EVAH SEERT\n",
      "\n",
      ".YTIVITCA FO EVIH A NEEB SAH ,DNAH REHTO EHT NO ,YADNUS .KCOHS NI DNA DEZAD ,DNUORA GNIKLAW NEES EB DLUOC RETSASID EHT FO SROVIVRUS ,YADRUTAS NO\n",
      "\n",
      ".NOITAREPO PU-NAELC EHT HTIW GNIPLEH NEEB EVAH ,EESSENNET DNA ANAISIUOL ,SASNAKRA GNIRUOBHGIEN MORF GNIMOC EMOS ,SREETNULOV\n",
      "\n",
      ".SNWOT TIH-TSROW EHT FO EMOS NI ESNOPSER DNA EUCSER EHT HTIW PLEH OT SECRUOSER LAREDEF DEYOLPED DNA YCNEGREME FO ETATS A DERALCED SAH NEDIB EOJ TNEDISERP\n",
      "\n",
      ".MROTS S'YADIRF GNIRUD REWOP GNISOL ELPOEP FO SDNASUOHT HTIW ,SENIL REWOP NWOD GNINNIP ERA TAHT SEERT NEKORB EVOMER OT GNIKROW ERA SWERC .NIGEB OT EREHW WONK OT TLUCIFFID EB TSUM TI ,TAERG OS SI NOITATSAVED EHT\n",
      "\n",
      ".SEHCIWDNAS DNA RETAW TCELLOC NAC ELPOEP EREHW GNIDNATS YLLAITRAP LLITS SGNIDLIUB WEF EHT FO EMOS EDISTUO PU TES NEEB EVAH SNOITATS\n",
      "\n",
      "\".EMOC OT SMROTS EREVES REHTRUF FO SGNINRAW ERA EREHT ,ESNOPSER EHT HTIW GNILPPARG ERA SEITINUMMOC LACOL ELIHW TUB\n",
      ".DENRAW SAH RONREVOG EHT ,ELPOEP 62 DELLIK HCIHW SEODANROT EHT GNIWOLLOF IPPISSISSIM FO ETATS SU EHT OT YAW STI NO EB DLUOC REHTAEW EREVES EROM\" \n",
      "\n",
      ".ETATS EHT FO STRAP NI DENIAMER SKSIR TNACIFINGIS DIAS SEVEER ETAT RONREVOG\n",
      "\n",
      ".THGIN YADIRF NO AMABALA DNA IPPISSISSIM HGUORHT EROT HCIHW SEODANROT EHT FO EKAW EHT NI DECALPSID NEEB EVAH ELPOEP FO SDERDNUH\n",
      "\n",
      ".RETSASID EHT NI SDNEIRF LANOSREP TSOL DAH EH DIAS SNWOT DETCEFFA TSROW EHT FO ENO FO ROYAM EHT\n",
      "\n",
      ".AMABALA GNIRUOBHGIEN NI DAED DEMRIFNOC NOSREP ENO HTIW ,ETATS EHT NI DEID EVAH ELPOEP 52 TSAEL TA .EDACED A NAHT EROM NI IPPISSISSIM FO ETATS EHT NI TSEILDAED EHT SAW ODANROT S'YADIRF\n",
      "\n",
      ".ELBISSOP GNITAR TSEHGIH-DNOCES EHT NEVIG DNA \"TNELOIV\" SA DEIFISSALC - ODANROT EHT YB NWOD THGUORB NEEB EVAH SENIL REWOP DNA SESUOH OTNI DENRUTREVO EVAH SKCURT ,DETOORPU NEEB EVAH SEERT\n",
      "\n",
      ".YTIVITCA FO EVIH A NEEB SAH ,DNAH REHTO EHT NO ,YADNUS .KCOHS NI DNA DEZAD ,DNUORA GNIKLAW NEES EB DLUOC RETSASID EHT FO SROVIVRUS ,YADRUTAS NO\n",
      "\n",
      ".NOITAREPO PU-NAELC EHT HTIW GNIPLEH NEEB EVAH ,EESSENNET DNA ANAISIUOL ,SASNAKRA GNIRUOBHGIEN MORF GNIMOC EMOS ,SREETNULOV\n",
      "\n",
      ".SNWOT TIH-TSROW EHT FO EMOS NI ESNOPSER DNA EUCSER EHT HTIW PLEH OT SECRUOSER LAREDEF DEYOLPED DNA YCNEGREME FO ETATS A DERALCED SAH NEDIB EOJ TNEDISERP\n",
      "\n",
      ".MROTS S'YADIRF GNIRUD REWOP GNISOL ELPOEP FO SDNASUOHT HTIW ,SENIL REWOP NWOD GNINNIP ERA TAHT SEERT NEKORB EVOMER OT GNIKROW ERA SWERC .NIGEB OT EREHW WONK OT TLUCIFFID EB TSUM TI ,TAERG OS SI NOITATSAVED EHT\n",
      "\n",
      ".SEHCIWDNAS DNA RETAW TCELLOC NAC ELPOEP EREHW GNIDNATS YLLAITRAP LLITS SGNIDLIUB WEF EHT FO EMOS EDISTUO PU TES NEEB EVAH SNOITATS\n",
      "\n",
      "\".EMOC OT SMROTS EREVES REHTRUF FO SGNINRAW ERA EREHT ,ESNOPSER EHT HTIW GNILPPARG ERA SEITINUMMOC LACOL ELIHW TUB\n",
      "\n"
     ]
    }
   ],
   "source": [
    "\"\"\"Now use a for loop to go over the text you read from the file\n",
    "and make every letter capitalized. You can use any python upper methods for this part of the problem.\n",
    "Once the entire text is converted into upper text; display the data back on the screen. \n",
    "(Remember you can NOT read the entire text and use a method to convert the whole text with one method call \n",
    "rather I want to see you convert one letter at a time, thus use some loop to go over each character in the string at a time.\n",
    "\"\"\"\n",
    "upper_sb = StringBuilder()\n",
    "# convert each character in the reversed text to uppercase one at a time using a loop\n",
    "for char in str(rev_sb):\n",
    "    upper_sb.Append(char.upper())\n",
    "\n",
    "# Print the uppercase text\n",
    "print(upper_sb)\n"
   ]
  }
 ],
 "metadata": {
  "kernelspec": {
   "display_name": "Python 3 (ipykernel)",
   "language": "python",
   "name": "python3"
  },
  "language_info": {
   "codemirror_mode": {
    "name": "ipython",
    "version": 3
   },
   "file_extension": ".py",
   "mimetype": "text/x-python",
   "name": "python",
   "nbconvert_exporter": "python",
   "pygments_lexer": "ipython3",
   "version": "3.11.5"
  }
 },
 "nbformat": 4,
 "nbformat_minor": 5
}
