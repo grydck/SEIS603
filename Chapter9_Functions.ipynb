{
 "cells": [
  {
   "cell_type": "code",
   "execution_count": null,
   "id": "36924482",
   "metadata": {},
   "outputs": [],
   "source": [
    "\"\"\"\n",
    "This chapter covers:\n",
    " Defining functions\n",
    " Mutable and immutable objects\n",
    " Using function parameters\n",
    " Passing mutable objects as parameters\n",
    " Understanding local and global variables\n",
    " Creating and using generator functions\n",
    " Creating and using lambda expressions\n",
    " Using decorators\n",
    "\"\"\""
   ]
  },
  {
   "cell_type": "code",
   "execution_count": 2,
   "id": "3dd188ab",
   "metadata": {},
   "outputs": [],
   "source": [
    "def fact(n):\n",
    "    \"\"\"Return the factorial of the given number.\"\"\"\n",
    "    r = 1\n",
    "    while n > 0:\n",
    "        r = r * n\n",
    "        n = n - 1\n",
    "    return r"
   ]
  },
  {
   "cell_type": "code",
   "execution_count": 4,
   "id": "2fd0a472",
   "metadata": {},
   "outputs": [
    {
     "data": {
      "text/plain": [
       "24"
      ]
     },
     "execution_count": 4,
     "metadata": {},
     "output_type": "execute_result"
    }
   ],
   "source": [
    "x = fact(4)\n",
    "x"
   ]
  },
  {
   "cell_type": "code",
   "execution_count": 5,
   "id": "e8ce1e1a",
   "metadata": {},
   "outputs": [
    {
     "data": {
      "text/plain": [
       "140712997458728"
      ]
     },
     "execution_count": 5,
     "metadata": {},
     "output_type": "execute_result"
    }
   ],
   "source": [
    "#immutable objects\n",
    "a=1\n",
    "id(a)"
   ]
  },
  {
   "cell_type": "code",
   "execution_count": 6,
   "id": "3c95f284",
   "metadata": {},
   "outputs": [
    {
     "data": {
      "text/plain": [
       "140712997458760"
      ]
     },
     "execution_count": 6,
     "metadata": {},
     "output_type": "execute_result"
    }
   ],
   "source": [
    "a=2\n",
    "id(a)"
   ]
  },
  {
   "cell_type": "code",
   "execution_count": 7,
   "id": "f8d2ceb5",
   "metadata": {},
   "outputs": [
    {
     "name": "stdout",
     "output_type": "stream",
     "text": [
      "Address of x: 140712997459336\n",
      "Address of x: 140712997459336\n"
     ]
    }
   ],
   "source": [
    "#integer optimization\n",
    "#integer interning 0-256 are already addigned an ID\n",
    "x = 20\n",
    "y = 20\n",
    "print(\"Address of x:\", id(x))\n",
    "print(\"Address of x:\", id(y))"
   ]
  },
  {
   "cell_type": "code",
   "execution_count": 8,
   "id": "9a4d1ba4",
   "metadata": {},
   "outputs": [
    {
     "name": "stdout",
     "output_type": "stream",
     "text": [
      "Address of x:  2332235486544\n",
      "Address of y:  2332235494320\n",
      "\n",
      "Address of p:  2332235486384\n",
      "Address of q:  2332235494672\n"
     ]
    }
   ],
   "source": [
    "#address of integer outside range\n",
    "x = 257; y = 257; p = -6; q = -6;\n",
    "print(\"Address of x: \", id(x)) \n",
    "print(\"Address of y: \", id(y)) \n",
    "print() \n",
    "print(\"Address of p: \", id(p)) \n",
    "print(\"Address of q: \", id(q)) "
   ]
  },
  {
   "cell_type": "code",
   "execution_count": 9,
   "id": "a4cbbc89",
   "metadata": {},
   "outputs": [
    {
     "data": {
      "text/plain": [
       "27"
      ]
     },
     "execution_count": 9,
     "metadata": {},
     "output_type": "execute_result"
    }
   ],
   "source": [
    "def power(x,y):\n",
    "    r=1\n",
    "    while y > 0:\n",
    "        r = r*x\n",
    "        y = y-1\n",
    "    return r\n",
    "power(3,3)"
   ]
  },
  {
   "cell_type": "code",
   "execution_count": 10,
   "id": "0bb1004d",
   "metadata": {},
   "outputs": [
    {
     "ename": "TypeError",
     "evalue": "power() missing 1 required positional argument: 'y'",
     "output_type": "error",
     "traceback": [
      "\u001b[1;31m---------------------------------------------------------------------------\u001b[0m",
      "\u001b[1;31mTypeError\u001b[0m                                 Traceback (most recent call last)",
      "Cell \u001b[1;32mIn[10], line 1\u001b[0m\n\u001b[1;32m----> 1\u001b[0m power(\u001b[38;5;241m3\u001b[39m)\n",
      "\u001b[1;31mTypeError\u001b[0m: power() missing 1 required positional argument: 'y'"
     ]
    }
   ],
   "source": [
    "#argument not met will generate an error\n",
    "power(3)"
   ]
  },
  {
   "cell_type": "code",
   "execution_count": 11,
   "id": "c118a413",
   "metadata": {},
   "outputs": [
    {
     "data": {
      "text/plain": [
       "6"
      ]
     },
     "execution_count": 11,
     "metadata": {},
     "output_type": "execute_result"
    }
   ],
   "source": [
    "#postional parameters\n",
    "def addNumbers(x,y):\n",
    "    return x+y\n",
    "addNumbers(3,3)"
   ]
  },
  {
   "cell_type": "code",
   "execution_count": 14,
   "id": "e2bc026c",
   "metadata": {},
   "outputs": [
    {
     "data": {
      "text/plain": [
       "'Hello darwin'"
      ]
     },
     "execution_count": 14,
     "metadata": {},
     "output_type": "execute_result"
    }
   ],
   "source": [
    "def helloPerson(name):\n",
    "    return\"Hello \" + name\n",
    "helloPerson(\"darwin\")"
   ]
  },
  {
   "cell_type": "code",
   "execution_count": 15,
   "id": "c1f8dd18",
   "metadata": {},
   "outputs": [],
   "source": [
    "#default values\n",
    "def power(x,y=2):\n",
    "    r = 1\n",
    "    while y > 0:\n",
    "        r = r*x\n",
    "        y = y-1\n",
    "    return r\n",
    "        "
   ]
  },
  {
   "cell_type": "code",
   "execution_count": 16,
   "id": "e0db08a0",
   "metadata": {},
   "outputs": [
    {
     "data": {
      "text/plain": [
       "27"
      ]
     },
     "execution_count": 16,
     "metadata": {},
     "output_type": "execute_result"
    }
   ],
   "source": [
    "power(3,3)"
   ]
  },
  {
   "cell_type": "code",
   "execution_count": 17,
   "id": "40354537",
   "metadata": {},
   "outputs": [
    {
     "data": {
      "text/plain": [
       "9"
      ]
     },
     "execution_count": 17,
     "metadata": {},
     "output_type": "execute_result"
    }
   ],
   "source": [
    "power(3)"
   ]
  },
  {
   "cell_type": "code",
   "execution_count": 18,
   "id": "40973144",
   "metadata": {},
   "outputs": [
    {
     "data": {
      "text/plain": [
       "8"
      ]
     },
     "execution_count": 18,
     "metadata": {},
     "output_type": "execute_result"
    }
   ],
   "source": [
    "#Passing arguments by parameter name\n",
    "power(2,3)"
   ]
  },
  {
   "cell_type": "code",
   "execution_count": 19,
   "id": "e5c49652",
   "metadata": {},
   "outputs": [
    {
     "data": {
      "text/plain": [
       "9"
      ]
     },
     "execution_count": 19,
     "metadata": {},
     "output_type": "execute_result"
    }
   ],
   "source": [
    "power (3,2)"
   ]
  },
  {
   "cell_type": "code",
   "execution_count": 20,
   "id": "fc14e36f",
   "metadata": {},
   "outputs": [
    {
     "data": {
      "text/plain": [
       "9"
      ]
     },
     "execution_count": 20,
     "metadata": {},
     "output_type": "execute_result"
    }
   ],
   "source": [
    "#This type of argument passing is called keyword passing\n",
    "power(y=2,x=3)"
   ]
  },
  {
   "cell_type": "code",
   "execution_count": null,
   "id": "9968e5c1",
   "metadata": {},
   "outputs": [],
   "source": []
  }
 ],
 "metadata": {
  "kernelspec": {
   "display_name": "Python 3 (ipykernel)",
   "language": "python",
   "name": "python3"
  },
  "language_info": {
   "codemirror_mode": {
    "name": "ipython",
    "version": 3
   },
   "file_extension": ".py",
   "mimetype": "text/x-python",
   "name": "python",
   "nbconvert_exporter": "python",
   "pygments_lexer": "ipython3",
   "version": "3.11.5"
  }
 },
 "nbformat": 4,
 "nbformat_minor": 5
}
