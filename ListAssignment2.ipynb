{
 "cells": [
  {
   "cell_type": "code",
   "execution_count": null,
   "id": "05c79b74",
   "metadata": {},
   "outputs": [],
   "source": [
    "#Author: Darwin Stahlback\n",
    "#Assignment: List Assignment 2\n",
    "#SEIS603-01 Naqvi\n",
    "# LIST OPERATIONS: If you have a list x, write code to safely remove an item from the list if—and only if—the item\n",
    "# occurs in the list more than once. For example:\n",
    "# a = [7,8,9,1,1,2,4,5,1,3,4,5,6]\n",
    "#After deletion the result should be\n",
    "#[7,8,9,2,3,6] #then sort the list.\n",
    "#Your final answer should be [2,3,6,7,8,9]"
   ]
  },
  {
   "cell_type": "code",
   "execution_count": 12,
   "id": "d19b8b14",
   "metadata": {},
   "outputs": [
    {
     "data": {
      "text/plain": [
       "[2, 3, 6, 7, 8, 9]"
      ]
     },
     "execution_count": 12,
     "metadata": {},
     "output_type": "execute_result"
    }
   ],
   "source": [
    "# brute force | loop through list starting at [0] then evaluate with inner loop| not Great, Big O of o(n^2) due to nested while in for loop\n",
    "x = [7,8,9,1,1,2,4,5,1,3,4,5,6]\n",
    "for item in x:\n",
    "    if x.count(item) > 1: # determine if there is more than 1 using count\n",
    "        itemcount = x.count(item) # store that item count to be iterated through\n",
    "        while itemcount > 0: # for the cnt of the current item, use remove() as it remove the first inst. of that val each iter.\n",
    "            x.remove(item)\n",
    "            itemcount = itemcount - 1\n",
    "x.sort() # sort list\n",
    "x # show list"
   ]
  },
  {
   "cell_type": "code",
   "execution_count": 16,
   "id": "71be7890",
   "metadata": {},
   "outputs": [
    {
     "data": {
      "text/plain": [
       "[2, 3, 6, 7, 8, 9]"
      ]
     },
     "execution_count": 16,
     "metadata": {},
     "output_type": "execute_result"
    }
   ],
   "source": [
    "#use a dictionary using each unique instance as a key and the count as value. Big O = O(n) b/c of move of 2nd loop to same level\n",
    "y = [7,8,9,1,1,2,4,5,1,3,4,5,6]\n",
    "count_dict = {}\n",
    "for item in y: #For each element check if it exists as a key in the count_dict dictionary if not, add key value, otherwise inc.\n",
    "    count_dict[item] = count_dict.get(item, 0) + 1 \n",
    "# print(count_dict)\n",
    "# Create a new list with elements occurring only once\n",
    "new_y = []\n",
    "for item in y:\n",
    "    if count_dict[item] == 1:\n",
    "        new_y.append(item)\n",
    "new_y.sort() # sort list\n",
    "new_y # show list"
   ]
  }
 ],
 "metadata": {
  "kernelspec": {
   "display_name": "Python 3 (ipykernel)",
   "language": "python",
   "name": "python3"
  },
  "language_info": {
   "codemirror_mode": {
    "name": "ipython",
    "version": 3
   },
   "file_extension": ".py",
   "mimetype": "text/x-python",
   "name": "python",
   "nbconvert_exporter": "python",
   "pygments_lexer": "ipython3",
   "version": "3.11.5"
  }
 },
 "nbformat": 4,
 "nbformat_minor": 5
}
