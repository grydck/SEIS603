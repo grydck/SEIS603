{
 "cells": [
  {
   "cell_type": "code",
   "execution_count": null,
   "id": "5ded2552",
   "metadata": {},
   "outputs": [],
   "source": [
    "\"\"\"\n",
    "write ONE Python function that calculates a BMI score and \n",
    "also classifies that score by assigning a text string from the \n",
    "table below.  Your calculateBMI() function should take in height \n",
    "and weight as float parameters.  Your function should return \n",
    "four items: \n",
    "height (float),\n",
    "weight (float),\n",
    "BMI score (rounded float to one decimal place), and \n",
    "BMI classification (string).\n",
    "return all four items (height, weight, BMI, classification) as a Python list.\n",
    "Print the returned BMI information with an appropriate message.\n",
    "\"\"\""
   ]
  },
  {
   "cell_type": "code",
   "execution_count": 14,
   "id": "95b463b6",
   "metadata": {},
   "outputs": [],
   "source": [
    "#template code\n",
    "def calculateBMI(height: float, weight: float) :\n",
    "    #check your input for suspicious input values\n",
    "    if (not isinstance(height, float)) | (not isinstance(weight, float)): #template code\n",
    "        raise TypeError(\"height and weight variables not of type float\") #template code\n",
    "    if (height <= 0.0 or height > 120.0) or (weight <= 0 or weight > 1000.0): #make sure height and weight are in range\n",
    "        return None\n",
    "    # figure out BMI (BMI = w*720/(h^2)) for standrd measurement\n",
    "    bmi_raw = (weight*720) / (height **2)\n",
    "    # round BMI to one decimal place\n",
    "    bmi_rounded_value = round(bmi_raw, 1)\n",
    "    #once you have bmi to one decimal place, figure out where in the chart you are\n",
    "    #classify the rounded BMI values using the table returning a string corresponding to the ranges.\n",
    "    if bmi_rounded_value < 18.5:\n",
    "        bmi_classification = \"Underweight\"\n",
    "    elif bmi_rounded_value < 25.0:\n",
    "        bmi_classification_value = \"Healthy\"\n",
    "    elif bmi_rounded_value < 30.0:\n",
    "        bmi_classification = \"Overweight\"\n",
    "    else:\n",
    "        bmi_classification = \"Obese\"\n",
    "    #return all four items (height, weight, BMI, classification) as a Python list.\n",
    "    return [height, weight, bmi_rounded_value, bmi_classification]\n"
   ]
  },
  {
   "cell_type": "code",
   "execution_count": 16,
   "id": "b11d4646",
   "metadata": {},
   "outputs": [
    {
     "name": "stdout",
     "output_type": "stream",
     "text": [
      "Please enter your height in inches (0.1 to 120.0 inches):-4\n",
      "Please enter your height in pounds (0.1-1000 lbs:290\n",
      "The values entered you entered are invalid. Please retry enter in range values for height and weight.\n",
      "Do you wish to try again? (Type \"Y\" for yes or \"N\" for no): Y\n",
      "Please enter your height in inches (0.1 to 120.0 inches):72\n",
      "Please enter your height in pounds (0.1-1000 lbs:-5\n",
      "The values entered you entered are invalid. Please retry enter in range values for height and weight.\n",
      "Do you wish to try again? (Type \"Y\" for yes or \"N\" for no): fred\n",
      "Invalid response. Please enter 'Y' or 'N'.\n",
      "Do you wish to try again? (Type \"Y\" for yes or \"N\" for no): y\n",
      "Please enter your height in inches (0.1 to 120.0 inches):72\n",
      "Please enter your height in pounds (0.1-1000 lbs:180\n",
      "A weight of 180.0 lbs and a height of 72.0 inches gives a BMI of 25.0, which is classified as Overweight.\n",
      "Do you wish to try again? (Type \"Y\" for yes or \"N\" for no): N\n",
      "Goodbye.\n"
     ]
    }
   ],
   "source": [
    "question_loop = False\n",
    "while not question_loop:\n",
    "    #use try block to catch errors\n",
    "    try:\n",
    "        #Ask the user to input a height (meters or inches), convert it into a float.\n",
    "        height = float(input(\"\"\"Please enter your height in inches (0.1 to 120.0 inches):\"\"\"))\n",
    "        #Ask the user to input a weight (kilograms or pounds), convert it into a float.\n",
    "        weight = float(input(\"\"\"Please enter your height in pounds (0.1-1000 lbs:\"\"\"))\n",
    "\n",
    "        #Pass these values into your Python function.\n",
    "        result = calculateBMI(height, weight)\n",
    "        #Print the returned BMI information with an appropriate message.\n",
    "        if result is None:\n",
    "            print(\"The values entered you entered are invalid. Please retry enter in range values for height and weight.\")\n",
    "        else:\n",
    "            message = \"A height of {} inches and a weight of {} lbs and a gives a BMI of {}, which is classified as {}.\"\n",
    "            print(message.format(result[0], result[1], result[2], result[3]))\n",
    "        while True: # get a valid response to repeat doing BMI\n",
    "            repeat = input('Do you wish to try again? (Type \"Y\" for yes or \"N\" for no): ').strip().lower() #this just give y or n\n",
    "            if repeat not in ['y', 'n']:\n",
    "                print(\"Invalid response. Please enter 'Y' or 'N'.\")\n",
    "            elif repeat == 'n':\n",
    "                print(\"Goodbye.\")\n",
    "                question_loop = True\n",
    "                break #get out of the 2nd loop\n",
    "            elif repeat == \"y\":\n",
    "                break # Exit the inner loop to rerun the question\n",
    "    except ValueError:\n",
    "        print(\"Invalid input. Please enter numeric values for height and weight.\")"
   ]
  },
  {
   "cell_type": "code",
   "execution_count": null,
   "id": "e4ec8fdd",
   "metadata": {},
   "outputs": [],
   "source": []
  }
 ],
 "metadata": {
  "kernelspec": {
   "display_name": "Python 3 (ipykernel)",
   "language": "python",
   "name": "python3"
  },
  "language_info": {
   "codemirror_mode": {
    "name": "ipython",
    "version": 3
   },
   "file_extension": ".py",
   "mimetype": "text/x-python",
   "name": "python",
   "nbconvert_exporter": "python",
   "pygments_lexer": "ipython3",
   "version": "3.11.5"
  }
 },
 "nbformat": 4,
 "nbformat_minor": 5
}
