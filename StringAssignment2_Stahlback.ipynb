{
 "cells": [
  {
   "cell_type": "code",
   "execution_count": null,
   "id": "49910e53",
   "metadata": {},
   "outputs": [],
   "source": [
    "#Look at every word in the paragraph and find \"A\" or \"a\" and substitute  with the '@' sign \n",
    "#however make sure that the first occurrence of the character \"A' or \"a\" or a single 'a' remains. \n",
    "#Sample String : ‘artificial’\n",
    "\n",
    "#Result : ‘artifici@l’\n",
    "#create varaible to hold initial string, old character to replace, new character substitution and delimiter (i.e. \" \")\n",
    "# take the phrase to do the substitutions\n",
    "#old_phrase = \"A life-sized dummy referred to only as Starman was positioned in the front seat sporting a spacesuit.\"\n",
    "old_phrase = '''\"In a stunt that was supposed to be \"silly and fun,\" per Musk (via NBC Bay AreaLinks to an external site.) \n",
    "SpaceX used the most powerful rocket ever built, the Falcon Heavy, to launch Elon Musk's personal electric sportscar into space. \n",
    "Fittingly, the turbulent Tesla was rocket red and adorned in sci-fi finishes. A life-sized dummy referred to only as Starman was \n",
    "positioned in the front seat sporting a spacesuit. According to CNNLinks to an external site., the sportscar began its orbit to \n",
    "the tune of David Bowie'sLinks to an external site. \"Life on Mars?\" and was immediately logged into NASA's catalogLinks to an \n",
    "external site. of artificial objects.\n",
    "\n",
    "Given the utter absence of gravity and the futuristic implications of the experiment, this was giving Marty McFly in \n",
    "\"Back to the Future\" vibes, at first. But before we start thinking about the future, there is something more immediate \n",
    "to consider ... Where is the Tesla right now?\"'''"
   ]
  },
  {
   "cell_type": "code",
   "execution_count": 75,
   "id": "0a372e1c",
   "metadata": {},
   "outputs": [],
   "source": [
    "#need to also parse out a word. since we can call this multiple time , best to make it a function\n",
    "def replace_char_except_first(word):\n",
    "    temp_list = list(word)  # convert word to a list\n",
    "    old_char = \"a\"\n",
    "    new_char = \"@\"\n",
    "    result = []  # place to stuff the reassembled word\n",
    "    second_char_occurence = False \n",
    "    \n",
    "    # check if the word has more than one occurrence, if not just return the word as is\n",
    "    # since we want either upper or lower of the char we can use \".lower\" to eval the word\n",
    "    if word.lower().count(old_char) <= 1:\n",
    "        return word\n",
    "    else:\n",
    "        # find location of first occurrence\n",
    "        for eachChar in temp_list:\n",
    "            if eachChar.lower() == old_char:  # check if the current character matches the old_char\n",
    "                if (second_char_occurence == False):  # check if it's the first occurrence\n",
    "                    result.append(eachChar) # run once with old character and then latch\n",
    "                    second_char_occurence = True\n",
    "                else:  # it's not the first occurrence anymore, replace it with the new_char\n",
    "                    result.append(new_char)\n",
    "            else:\n",
    "                result.append(eachChar)  # it isn't the char being asked to change so just append the original char\n",
    "    #return new list result as string\n",
    "    return ''.join(result)"
   ]
  },
  {
   "cell_type": "code",
   "execution_count": 105,
   "id": "39bddb31",
   "metadata": {},
   "outputs": [
    {
     "data": {
      "text/plain": [
       "'\"In a stunt that was supposed to be \"silly and fun,\" per Musk (via NBC Bay Are@Links to an external site.) SpaceX used the most powerful rocket ever built, the Falcon Heavy, to launch Elon Musk\\'s personal electric sportscar into space. Fittingly, the turbulent Tesla was rocket red and adorned in sci-fi finishes. A life-sized dummy referred to only as Starm@n was positioned in the front seat sporting a spacesuit. According to CNNLinks to an external site., the sportscar began its orbit to the tune of David Bowie\\'sLinks to an external site. \"Life on Mars?\" and was immediately logged into NAS@\\'s cat@logLinks to an external site. of artifici@l objects. Given the utter absence of gravity and the futuristic implications of the experiment, this was giving Marty McFly in \"Back to the Future\" vibes, at first. But before we start thinking about the future, there is something more immediate to consider ... Where is the Tesla right now?\"'"
      ]
     },
     "execution_count": 105,
     "metadata": {},
     "output_type": "execute_result"
    }
   ],
   "source": [
    "# use the split function to parse the phrase into words\n",
    "old_word_parts = old_phrase.split( )\n",
    "#old_word_parts\n",
    "#\n",
    "new_phrase = []\n",
    "for eachword in old_word_parts:\n",
    "    a = replace_char_except_first(eachword)\n",
    "    new_phrase.append(a)\n",
    "    #repurpose list to string\n",
    "new_phrase = ' '.join(new_phrase)\n",
    "new_phrase"
   ]
  }
 ],
 "metadata": {
  "kernelspec": {
   "display_name": "Python 3 (ipykernel)",
   "language": "python",
   "name": "python3"
  },
  "language_info": {
   "codemirror_mode": {
    "name": "ipython",
    "version": 3
   },
   "file_extension": ".py",
   "mimetype": "text/x-python",
   "name": "python",
   "nbconvert_exporter": "python",
   "pygments_lexer": "ipython3",
   "version": "3.11.5"
  }
 },
 "nbformat": 4,
 "nbformat_minor": 5
}
