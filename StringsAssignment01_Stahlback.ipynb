{
 "cells": [
  {
   "cell_type": "code",
   "execution_count": null,
   "id": "9123485e",
   "metadata": {},
   "outputs": [],
   "source": [
    "#Write Python code to count the number of characters (character frequency) in a string.\n",
    "#Sample String : www.Zoomzoombus.com'\n",
    "#Result : {'w': 3, 'Z': 1, 'o': 5, 'm': 3,'z':1, '.': 2, 'b': 1, 'u': 1, 's': 1, 'c': 1}"
   ]
  },
  {
   "cell_type": "code",
   "execution_count": 4,
   "id": "40320955",
   "metadata": {},
   "outputs": [],
   "source": [
    "#since each character in the string is unique create a dictionary to hold letter as key and count for valu\n",
    "str_char_freq_count = {}\n",
    "#create string var. to hold orginal value to test\n",
    "original_string = 'www.Zoomzoombus.com'"
   ]
  },
  {
   "cell_type": "code",
   "execution_count": 6,
   "id": "fbdbed2c",
   "metadata": {},
   "outputs": [],
   "source": [
    "# loop through string to find count \n",
    "# if it exist increment value count of dictionary \n",
    "# otherwise set the first value of that key to 1\n",
    "for char in original_string:\n",
    "    if char in str_char_freq_count:\n",
    "        str_char_freq_count[char] += 1\n",
    "    else:\n",
    "        str_char_freq_count[char] = 1"
   ]
  },
  {
   "cell_type": "code",
   "execution_count": 7,
   "id": "3f52d713",
   "metadata": {},
   "outputs": [
    {
     "name": "stdout",
     "output_type": "stream",
     "text": [
      "{'w': 3, '.': 2, 'Z': 1, 'o': 5, 'm': 3, 'z': 1, 'b': 1, 'u': 1, 's': 1, 'c': 1}\n"
     ]
    }
   ],
   "source": [
    "# print the results\n",
    "print(str_char_freq_count)"
   ]
  }
 ],
 "metadata": {
  "kernelspec": {
   "display_name": "Python 3 (ipykernel)",
   "language": "python",
   "name": "python3"
  },
  "language_info": {
   "codemirror_mode": {
    "name": "ipython",
    "version": 3
   },
   "file_extension": ".py",
   "mimetype": "text/x-python",
   "name": "python",
   "nbconvert_exporter": "python",
   "pygments_lexer": "ipython3",
   "version": "3.11.5"
  }
 },
 "nbformat": 4,
 "nbformat_minor": 5
}
