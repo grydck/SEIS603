{
 "cells": [
  {
   "cell_type": "code",
   "execution_count": 7,
   "id": "bafa52ae",
   "metadata": {},
   "outputs": [
    {
     "name": "stdout",
     "output_type": "stream",
     "text": [
      "[8, 9, 0, 11, 12, 13, 14]\n"
     ]
    }
   ],
   "source": [
    "#find the second half of the list\n",
    "myList = [1,2,3,4,5,6,7,8,9,0,11,12,13,14]\n",
    "cnt = len(myList)\n",
    "cnt = cnt//2\n",
    "print(myList[cnt:])"
   ]
  },
  {
   "cell_type": "code",
   "execution_count": 10,
   "id": "dffbf7ca",
   "metadata": {},
   "outputs": [
    {
     "data": {
      "text/plain": [
       "0"
      ]
     },
     "execution_count": 10,
     "metadata": {},
     "output_type": "execute_result"
    }
   ],
   "source": [
    "zz = [1,2,3,4,5,1,2,3,1,2]\n",
    "zz.index(1)"
   ]
  },
  {
   "cell_type": "code",
   "execution_count": 9,
   "id": "515d7121",
   "metadata": {},
   "outputs": [
    {
     "name": "stdout",
     "output_type": "stream",
     "text": [
      "[8, 9, 0, 11, 12, 13, 14]\n"
     ]
    }
   ],
   "source": [
    "counter = 0\n",
    "myList = [1,2,3,4,5,6,7,8,9,0,11,12,13,14]\n",
    "for eachitem in myList:\n",
    "    counter = counter + 1\n",
    "\n",
    "print(myList[(counter//2):])\n"
   ]
  }
 ],
 "metadata": {
  "kernelspec": {
   "display_name": "Python 3 (ipykernel)",
   "language": "python",
   "name": "python3"
  },
  "language_info": {
   "codemirror_mode": {
    "name": "ipython",
    "version": 3
   },
   "file_extension": ".py",
   "mimetype": "text/x-python",
   "name": "python",
   "nbconvert_exporter": "python",
   "pygments_lexer": "ipython3",
   "version": "3.11.5"
  }
 },
 "nbformat": 4,
 "nbformat_minor": 5
}
