{
 "cells": [
  {
   "cell_type": "code",
   "execution_count": 14,
   "id": "01b7a54a",
   "metadata": {},
   "outputs": [
    {
     "name": "stdout",
     "output_type": "stream",
     "text": [
      "['A']\n",
      "['A', 'l']\n",
      "['A', 'l', 'w']\n",
      "['A', 'l', 'w', '@']\n",
      "['A', 'l', 'w', '@', 'y']\n",
      "['A', 'l', 'w', '@', 'y', 's']\n",
      "Alw@ys\n"
     ]
    }
   ],
   "source": [
    "word = 'Always' #word.lower()  # simplify char evaluation to test upper or lower case of the same\n",
    "temp_list = list(word)  # convert word to a list\n",
    "old_char = \"a\"\n",
    "new_char = \"@\"\n",
    "result = []  # place to stuff the reassembled word\n",
    "second_char_occurence = False \n",
    "    \n",
    "# check if the word has more than one occurrence, if not just return the word as is\n",
    "# since we want either upper or lower of the char we can use \".lower\" to eval the word\n",
    "if word.lower().count(old_char) <= 1:\n",
    "    print(word)\n",
    "else:\n",
    "# find location of first occurrence\n",
    "    for eachChar in temp_list:\n",
    "        if eachChar.lower() == old_char:  # check if the current character matches the old_char\n",
    "            if (second_char_occurence == False):  # check if it's the first occurrence\n",
    "                result.append(eachChar) # run once with old character and then latch\n",
    "                print(result)\n",
    "                second_char_occurence = True\n",
    "            else:  # it's not the first occurrence anymore, replace it with the new_char\n",
    "                result.append(new_char)\n",
    "                print(result)\n",
    "        else:\n",
    "            result.append(eachChar)  # it isn't the char being asked to change so just append the original char\n",
    "            print(result)\n",
    "print(''.join(result))"
   ]
  },
  {
   "cell_type": "code",
   "execution_count": null,
   "id": "65c38e59",
   "metadata": {},
   "outputs": [],
   "source": []
  },
  {
   "cell_type": "code",
   "execution_count": 5,
   "id": "04c9cf43",
   "metadata": {},
   "outputs": [
    {
     "name": "stdout",
     "output_type": "stream",
     "text": [
      "this-is-a-test\n"
     ]
    }
   ],
   "source": [
    "x =\"this is a test\"\n",
    "mylist = x.split(\" \")\n",
    "print('-'.join(mylist))"
   ]
  },
  {
   "cell_type": "code",
   "execution_count": 18,
   "id": "c902033c",
   "metadata": {},
   "outputs": [
    {
     "data": {
      "text/plain": [
       "'0000000000000000000000Ambrosia is food of the gods'"
      ]
     },
     "execution_count": 18,
     "metadata": {},
     "output_type": "execute_result"
    }
   ],
   "source": [
    "s = \"Ambrosia is food of the gods\"\n",
    "s.zfill(50)"
   ]
  },
  {
   "cell_type": "code",
   "execution_count": null,
   "id": "085dd5f8",
   "metadata": {},
   "outputs": [],
   "source": []
  }
 ],
 "metadata": {
  "kernelspec": {
   "display_name": "Python 3 (ipykernel)",
   "language": "python",
   "name": "python3"
  },
  "language_info": {
   "codemirror_mode": {
    "name": "ipython",
    "version": 3
   },
   "file_extension": ".py",
   "mimetype": "text/x-python",
   "name": "python",
   "nbconvert_exporter": "python",
   "pygments_lexer": "ipython3",
   "version": "3.11.5"
  }
 },
 "nbformat": 4,
 "nbformat_minor": 5
}
