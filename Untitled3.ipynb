{
 "cells": [
  {
   "cell_type": "code",
   "execution_count": null,
   "id": "31f983e0",
   "metadata": {},
   "outputs": [],
   "source": [
    "temp = 3\n",
    "user_info = {}\n",
    "while temp > 0:\n",
    "    name = input(\"PLease provide your name:\")\n",
    "    age = input(\"PLease provide your age:\")\n",
    "    user_info[name] = age\n",
    "    temp = temp - 1\n",
    "user_info"
   ]
  }
 ],
 "metadata": {
  "kernelspec": {
   "display_name": "Python 3 (ipykernel)",
   "language": "python",
   "name": "python3"
  },
  "language_info": {
   "codemirror_mode": {
    "name": "ipython",
    "version": 3
   },
   "file_extension": ".py",
   "mimetype": "text/x-python",
   "name": "python",
   "nbconvert_exporter": "python",
   "pygments_lexer": "ipython3",
   "version": "3.11.5"
  }
 },
 "nbformat": 4,
 "nbformat_minor": 5
}
