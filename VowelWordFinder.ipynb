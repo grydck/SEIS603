{
 "cells": [
  {
   "cell_type": "code",
   "execution_count": 9,
   "id": "34214270",
   "metadata": {},
   "outputs": [
    {
     "data": {
      "text/plain": [
       "'Vowel Word Finder - You are to write Python code to find the words that starts with only a few vowels (Aa,Ee, Ii,Oo, Uu) in the given paragraph.\\n\"A Ukrainian American woman who lives near Boston, Massachusetts, told Fox News Digital on Monday that she can no longer speak on the phone with her own mother, who lives in southern Ukraine, because of the Russian attacks.\"\\n\\nWill become:\\n\\n\"A Ukrainian American on on own in Ukraine of attacks\"\\n\\n2) Next Reverse the string:\\n\\n\\'skcatta fo eniarkU ni nwo no no naciremA nainiarkU A\\''"
      ]
     },
     "execution_count": 9,
     "metadata": {},
     "output_type": "execute_result"
    }
   ],
   "source": [
    "\"\"\"Vowel Word Finder - You are to write Python code to find the words that starts with only a few vowels (Aa,Ee, Ii,Oo, Uu) in the given paragraph.\n",
    "\"A Ukrainian American woman who lives near Boston, Massachusetts, told Fox News Digital on Monday that she can no longer speak on the phone with her own mother, who lives in southern Ukraine, because of the Russian attacks.\"\n",
    "\n",
    "Will become:\n",
    "\n",
    "\"A Ukrainian American on on own in Ukraine of attacks\"\n",
    "\n",
    "2) Next Reverse the string:\n",
    "\n",
    "'skcatta fo eniarkU ni nwo no no naciremA nainiarkU A'\"\"\""
   ]
  },
  {
   "cell_type": "code",
   "execution_count": 10,
   "id": "a44ea10b",
   "metadata": {},
   "outputs": [],
   "source": [
    "# step 1 create a varaible to hold the paragraph and one to hold what we want to change\n",
    "vowels = \"AaEeIiOoUu\"\n",
    "paragraph = \"A Ukrainian American woman who lives near Boston, Massachusetts, told Fox News Digital on Monday that she can no longer speak on the phone with her own mother, who lives in southern Ukraine, because of the Russian attacks.\"   "
   ]
  },
  {
   "cell_type": "code",
   "execution_count": 11,
   "id": "ab8968ce",
   "metadata": {},
   "outputs": [],
   "source": [
    "#step 2 Split the paragraph into individual words.\n",
    "words = paragraph.split()\n",
    "#words"
   ]
  },
  {
   "cell_type": "code",
   "execution_count": 12,
   "id": "3360354d",
   "metadata": {},
   "outputs": [],
   "source": [
    "#Check each word in word list\n",
    "#for vowel start which is index 0 and collect them.\n",
    "vowel_words_list = []# create a new list to hold just vowel words\n",
    "for word in words:\n",
    "    #added this code to remove periods and commas to match example output\n",
    "    cleaned_word = word.strip(\",.\")  # Remove ',' and '.' from the beginning and end of the word\n",
    "    if cleaned_word[0] in vowels:\n",
    "        vowel_words_list.append(cleaned_word)\n",
    "   # if word[0] in vowels:\n",
    "    #    vowel_words_list.append(word)\n",
    "#vowel_words_list"
   ]
  },
  {
   "cell_type": "code",
   "execution_count": 13,
   "id": "a90af908",
   "metadata": {},
   "outputs": [],
   "source": [
    "#now we have the vowel words join them back into a string\n",
    "new_vowel_words = \" \".join(vowel_words_list)\n",
    "#new_vowel_words"
   ]
  },
  {
   "cell_type": "code",
   "execution_count": 14,
   "id": "84d0da24",
   "metadata": {},
   "outputs": [
    {
     "data": {
      "text/plain": [
       "('A Ukrainian American on on own in Ukraine of attacks',\n",
       " 'skcatta fo eniarkU ni nwo no no naciremA nainiarkU A')"
      ]
     },
     "execution_count": 14,
     "metadata": {},
     "output_type": "execute_result"
    }
   ],
   "source": [
    "#finally we need to reverse these words\n",
    "reversed_string = \"\"\n",
    "for char in new_vowel_words:\n",
    "    reversed_string = char + reversed_string\n",
    "\n",
    "new_vowel_words, reversed_string"
   ]
  }
 ],
 "metadata": {
  "kernelspec": {
   "display_name": "Python 3 (ipykernel)",
   "language": "python",
   "name": "python3"
  },
  "language_info": {
   "codemirror_mode": {
    "name": "ipython",
    "version": 3
   },
   "file_extension": ".py",
   "mimetype": "text/x-python",
   "name": "python",
   "nbconvert_exporter": "python",
   "pygments_lexer": "ipython3",
   "version": "3.11.5"
  }
 },
 "nbformat": 4,
 "nbformat_minor": 5
}
