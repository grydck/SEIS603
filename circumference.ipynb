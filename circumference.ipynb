{
 "cells": [
  {
   "cell_type": "code",
   "execution_count": null,
   "id": "2309da9e",
   "metadata": {},
   "outputs": [],
   "source": [
    "#Author: Darwin Stahlback\n",
    "#Class: SEIS 603 /Naqvi Spring 2023\n",
    "#Assignment 1B\n",
    "# \n",
    "# computes the area of a circle. Your program should allow the user\n",
    "# to input the radius of the circle. After getting the value or r, \n",
    "# your application should calculate the area of a circle and return \n",
    "# the value back to the user."
   ]
  },
  {
   "cell_type": "code",
   "execution_count": 4,
   "id": "b0003994",
   "metadata": {},
   "outputs": [],
   "source": [
    "#import math to get pi\n",
    "import math"
   ]
  },
  {
   "cell_type": "code",
   "execution_count": 5,
   "id": "0528aee2",
   "metadata": {},
   "outputs": [
    {
     "name": "stdout",
     "output_type": "stream",
     "text": [
      "----- Calculate the area of a circle -----\n",
      "please provide the size of radius: 3\n"
     ]
    }
   ],
   "source": [
    "#have user input radius of circle and store to variable\n",
    "print(\"----- Calculate the area of a circle -----\")\n",
    "myradius = float(input(\"please provide the size of radius: \"))"
   ]
  },
  {
   "cell_type": "code",
   "execution_count": 11,
   "id": "6e7c6f99",
   "metadata": {},
   "outputs": [
    {
     "name": "stdout",
     "output_type": "stream",
     "text": [
      "The Area of a circle with a radius of 3.0 is: 28.274333882308138\n"
     ]
    }
   ],
   "source": [
    "#take variable and calculate circumference\n",
    "myArea =  math.pi * myradius**2\n",
    "print(\"The Area of a circle with a radius of \"+str(myradius)+\" is: \"+str(myArea))"
   ]
  },
  {
   "cell_type": "code",
   "execution_count": null,
   "id": "9886056c",
   "metadata": {},
   "outputs": [],
   "source": []
  }
 ],
 "metadata": {
  "kernelspec": {
   "display_name": "Python 3 (ipykernel)",
   "language": "python",
   "name": "python3"
  },
  "language_info": {
   "codemirror_mode": {
    "name": "ipython",
    "version": 3
   },
   "file_extension": ".py",
   "mimetype": "text/x-python",
   "name": "python",
   "nbconvert_exporter": "python",
   "pygments_lexer": "ipython3",
   "version": "3.11.5"
  }
 },
 "nbformat": 4,
 "nbformat_minor": 5
}
